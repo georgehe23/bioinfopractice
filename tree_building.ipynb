{
 "cells": [
  {
   "cell_type": "markdown",
   "metadata": {},
   "source": [
    "## A simple phylogenetic tree-building algorithm"
   ]
  },
  {
   "cell_type": "markdown",
   "metadata": {},
   "source": [
    "Written for Assignment 2, Question 3a (phylogenetics) for Semester 2, 2024 in Algorithms for Bioinformatics (COMP90014) at the University of Melbourne."
   ]
  },
  {
   "cell_type": "markdown",
   "metadata": {},
   "source": [
    "**Prompt:** a outbreak of Ebola has been detected. Different strains of Ebola have been sequenced, along with sequencing data from the latest case. *Build a tree to identify clusters within the outbreak and which cluster the latest case belongs to*, hence allowing targeted vaccine delivery. "
   ]
  },
  {
   "cell_type": "markdown",
   "metadata": {},
   "source": [
    "**Inputs:** a FASTA file of aligned amino acid sequences which are assumed to have been processed through multiple sequence alignment. <br>\n",
    "**Output:** a phylogenetic tree revealing disease clusters. "
   ]
  },
  {
   "cell_type": "markdown",
   "metadata": {},
   "source": [
    "**Workflow:** \n",
    "1. A simple phylogenetic tree is build using the neighbour-joining algorithm (agglomerative clustering). \n",
    "2. The simple tree is then repeatedly scored and branch and bounding algorithms applied to increase global optima."
   ]
  },
  {
   "cell_type": "markdown",
   "metadata": {
    "vscode": {
     "languageId": "plaintext"
    }
   },
   "source": [
    "**Setting up the environment:**\n",
    "\n",
    "Before setting up the environment, ensure Tkinter has been installed. This can be installed from the command line using:\n",
    "\n",
    "    sudo apt-get install -y python3-tk\n",
    "\n",
    "Tkinter is Python's standard library for creating lightweight and simple Graphical User Interfaces (GUIs). It has been chosen as a simple way of visualising the code's outputs. \n",
    "\n",
    "Now to setup and activate a custom Python3 virtual environment with required dependencies for this notebook..."
   ]
  },
  {
   "cell_type": "code",
   "execution_count": 1,
   "metadata": {},
   "outputs": [
    {
     "name": "stdout",
     "output_type": "stream",
     "text": [
      "Creating Python virtual environment...\n",
      "Activating the virtual environment...\n",
      "Installing required Python modules from requirements/phylotree_ipynb.txt...\n",
      "Requirement already satisfied: biopython==1.84 in ./phylotree_venv/lib/python3.10/site-packages (from -r requirements/phylotree_ipynb.txt (line 1)) (1.84)\n",
      "Requirement already satisfied: graphviz==0.20.3 in ./phylotree_venv/lib/python3.10/site-packages (from -r requirements/phylotree_ipynb.txt (line 2)) (0.20.3)\n",
      "Requirement already satisfied: matplotlib==3.9.2 in ./phylotree_venv/lib/python3.10/site-packages (from -r requirements/phylotree_ipynb.txt (line 3)) (3.9.2)\n",
      "Requirement already satisfied: networkx==3.3 in ./phylotree_venv/lib/python3.10/site-packages (from -r requirements/phylotree_ipynb.txt (line 4)) (3.3)\n",
      "Requirement already satisfied: numpy==2.1.0 in ./phylotree_venv/lib/python3.10/site-packages (from -r requirements/phylotree_ipynb.txt (line 5)) (2.1.0)\n",
      "Requirement already satisfied: pydot==3.0.1 in ./phylotree_venv/lib/python3.10/site-packages (from -r requirements/phylotree_ipynb.txt (line 6)) (3.0.1)\n",
      "Requirement already satisfied: ipykernel in ./phylotree_venv/lib/python3.10/site-packages (from -r requirements/phylotree_ipynb.txt (line 7)) (6.29.5)\n",
      "Requirement already satisfied: python-dateutil>=2.7 in ./phylotree_venv/lib/python3.10/site-packages (from matplotlib==3.9.2->-r requirements/phylotree_ipynb.txt (line 3)) (2.9.0.post0)\n",
      "Requirement already satisfied: pillow>=8 in ./phylotree_venv/lib/python3.10/site-packages (from matplotlib==3.9.2->-r requirements/phylotree_ipynb.txt (line 3)) (11.0.0)\n",
      "Requirement already satisfied: fonttools>=4.22.0 in ./phylotree_venv/lib/python3.10/site-packages (from matplotlib==3.9.2->-r requirements/phylotree_ipynb.txt (line 3)) (4.55.0)\n",
      "Requirement already satisfied: pyparsing>=2.3.1 in ./phylotree_venv/lib/python3.10/site-packages (from matplotlib==3.9.2->-r requirements/phylotree_ipynb.txt (line 3)) (3.2.0)\n",
      "Requirement already satisfied: cycler>=0.10 in ./phylotree_venv/lib/python3.10/site-packages (from matplotlib==3.9.2->-r requirements/phylotree_ipynb.txt (line 3)) (0.12.1)\n",
      "Requirement already satisfied: kiwisolver>=1.3.1 in ./phylotree_venv/lib/python3.10/site-packages (from matplotlib==3.9.2->-r requirements/phylotree_ipynb.txt (line 3)) (1.4.7)\n",
      "Requirement already satisfied: contourpy>=1.0.1 in ./phylotree_venv/lib/python3.10/site-packages (from matplotlib==3.9.2->-r requirements/phylotree_ipynb.txt (line 3)) (1.3.1)\n",
      "Requirement already satisfied: packaging>=20.0 in ./phylotree_venv/lib/python3.10/site-packages (from matplotlib==3.9.2->-r requirements/phylotree_ipynb.txt (line 3)) (24.2)\n",
      "Requirement already satisfied: traitlets>=5.4.0 in ./phylotree_venv/lib/python3.10/site-packages (from ipykernel->-r requirements/phylotree_ipynb.txt (line 7)) (5.14.3)\n",
      "Requirement already satisfied: pyzmq>=24 in ./phylotree_venv/lib/python3.10/site-packages (from ipykernel->-r requirements/phylotree_ipynb.txt (line 7)) (26.2.0)\n",
      "Requirement already satisfied: tornado>=6.1 in ./phylotree_venv/lib/python3.10/site-packages (from ipykernel->-r requirements/phylotree_ipynb.txt (line 7)) (6.4.1)\n",
      "Requirement already satisfied: matplotlib-inline>=0.1 in ./phylotree_venv/lib/python3.10/site-packages (from ipykernel->-r requirements/phylotree_ipynb.txt (line 7)) (0.1.7)\n",
      "Requirement already satisfied: psutil in ./phylotree_venv/lib/python3.10/site-packages (from ipykernel->-r requirements/phylotree_ipynb.txt (line 7)) (6.1.0)\n",
      "Requirement already satisfied: ipython>=7.23.1 in ./phylotree_venv/lib/python3.10/site-packages (from ipykernel->-r requirements/phylotree_ipynb.txt (line 7)) (8.29.0)\n",
      "Requirement already satisfied: comm>=0.1.1 in ./phylotree_venv/lib/python3.10/site-packages (from ipykernel->-r requirements/phylotree_ipynb.txt (line 7)) (0.2.2)\n",
      "Requirement already satisfied: debugpy>=1.6.5 in ./phylotree_venv/lib/python3.10/site-packages (from ipykernel->-r requirements/phylotree_ipynb.txt (line 7)) (1.8.8)\n",
      "Requirement already satisfied: jupyter-client>=6.1.12 in ./phylotree_venv/lib/python3.10/site-packages (from ipykernel->-r requirements/phylotree_ipynb.txt (line 7)) (8.6.3)\n",
      "Requirement already satisfied: jupyter-core!=5.0.*,>=4.12 in ./phylotree_venv/lib/python3.10/site-packages (from ipykernel->-r requirements/phylotree_ipynb.txt (line 7)) (5.7.2)\n",
      "Requirement already satisfied: nest-asyncio in ./phylotree_venv/lib/python3.10/site-packages (from ipykernel->-r requirements/phylotree_ipynb.txt (line 7)) (1.6.0)\n",
      "Requirement already satisfied: exceptiongroup in ./phylotree_venv/lib/python3.10/site-packages (from ipython>=7.23.1->ipykernel->-r requirements/phylotree_ipynb.txt (line 7)) (1.2.2)\n",
      "Requirement already satisfied: typing-extensions>=4.6 in ./phylotree_venv/lib/python3.10/site-packages (from ipython>=7.23.1->ipykernel->-r requirements/phylotree_ipynb.txt (line 7)) (4.12.2)\n",
      "Requirement already satisfied: pygments>=2.4.0 in ./phylotree_venv/lib/python3.10/site-packages (from ipython>=7.23.1->ipykernel->-r requirements/phylotree_ipynb.txt (line 7)) (2.18.0)\n",
      "Requirement already satisfied: prompt-toolkit<3.1.0,>=3.0.41 in ./phylotree_venv/lib/python3.10/site-packages (from ipython>=7.23.1->ipykernel->-r requirements/phylotree_ipynb.txt (line 7)) (3.0.48)\n",
      "Requirement already satisfied: jedi>=0.16 in ./phylotree_venv/lib/python3.10/site-packages (from ipython>=7.23.1->ipykernel->-r requirements/phylotree_ipynb.txt (line 7)) (0.19.2)\n",
      "Requirement already satisfied: stack-data in ./phylotree_venv/lib/python3.10/site-packages (from ipython>=7.23.1->ipykernel->-r requirements/phylotree_ipynb.txt (line 7)) (0.6.3)\n",
      "Requirement already satisfied: pexpect>4.3 in ./phylotree_venv/lib/python3.10/site-packages (from ipython>=7.23.1->ipykernel->-r requirements/phylotree_ipynb.txt (line 7)) (4.9.0)\n",
      "Requirement already satisfied: decorator in ./phylotree_venv/lib/python3.10/site-packages (from ipython>=7.23.1->ipykernel->-r requirements/phylotree_ipynb.txt (line 7)) (5.1.1)\n",
      "Requirement already satisfied: platformdirs>=2.5 in ./phylotree_venv/lib/python3.10/site-packages (from jupyter-core!=5.0.*,>=4.12->ipykernel->-r requirements/phylotree_ipynb.txt (line 7)) (4.3.6)\n",
      "Requirement already satisfied: six>=1.5 in ./phylotree_venv/lib/python3.10/site-packages (from python-dateutil>=2.7->matplotlib==3.9.2->-r requirements/phylotree_ipynb.txt (line 3)) (1.16.0)\n",
      "Requirement already satisfied: parso<0.9.0,>=0.8.4 in ./phylotree_venv/lib/python3.10/site-packages (from jedi>=0.16->ipython>=7.23.1->ipykernel->-r requirements/phylotree_ipynb.txt (line 7)) (0.8.4)\n",
      "Requirement already satisfied: ptyprocess>=0.5 in ./phylotree_venv/lib/python3.10/site-packages (from pexpect>4.3->ipython>=7.23.1->ipykernel->-r requirements/phylotree_ipynb.txt (line 7)) (0.7.0)\n",
      "Requirement already satisfied: wcwidth in ./phylotree_venv/lib/python3.10/site-packages (from prompt-toolkit<3.1.0,>=3.0.41->ipython>=7.23.1->ipykernel->-r requirements/phylotree_ipynb.txt (line 7)) (0.2.13)\n",
      "Requirement already satisfied: pure-eval in ./phylotree_venv/lib/python3.10/site-packages (from stack-data->ipython>=7.23.1->ipykernel->-r requirements/phylotree_ipynb.txt (line 7)) (0.2.3)\n",
      "Requirement already satisfied: asttokens>=2.1.0 in ./phylotree_venv/lib/python3.10/site-packages (from stack-data->ipython>=7.23.1->ipykernel->-r requirements/phylotree_ipynb.txt (line 7)) (2.4.1)\n",
      "Requirement already satisfied: executing>=1.2.0 in ./phylotree_venv/lib/python3.10/site-packages (from stack-data->ipython>=7.23.1->ipykernel->-r requirements/phylotree_ipynb.txt (line 7)) (2.1.0)\n",
      "Adding virtual environment to Jupyter kernels...\n",
      "Installed kernelspec phylotree_venv in /home/george/.local/share/jupyter/kernels/phylotree_venv\n",
      "Setup complete. To run the visualisation, use:\n",
      "> source phylotree_venv/bin/activate\n",
      "> python simple_NJ_tree.py\n"
     ]
    }
   ],
   "source": [
    "from workflow_utils import setup_custom_venv\n",
    "\n",
    "setup_custom_venv(requirements_file=\"requirements/phylotree_ipynb.txt\", custom_venv_name=\"phylotree_venv\")\n"
   ]
  },
  {
   "cell_type": "markdown",
   "metadata": {},
   "source": [
    "Select the *phylotree_venv* virtual environment as the notebook's kernel. \n",
    "\n",
    "And import dependencies into the notebook."
   ]
  },
  {
   "cell_type": "code",
   "execution_count": 2,
   "metadata": {},
   "outputs": [],
   "source": [
    "import Bio\n",
    "import Bio.Align\n",
    "import networkx as nx\n",
    "import numpy as np\n",
    "\n",
    "from collections import defaultdict\n",
    "from workflow_utils import draw_evo_tree  # import utility function that does basic graph plotting\n"
   ]
  },
  {
   "cell_type": "markdown",
   "metadata": {},
   "source": [
    "**Loading sample data:**\n",
    "\n",
    "The following sample files are used to demonstrate a simple phylotree build:\n",
    "- https://github.com/melbournebioinformatics/COMP90014_2024/raw/master/assignments/data/ebola_glycoproteins.fasta\n",
    "- https://github.com/melbournebioinformatics/COMP90014_2024/raw/master/assignments/data/ebola_glycoproteins_MSA.fasta\n",
    "\n",
    "Download these and place in a subfolder called /data if they haven't been already. <br>\n",
    "Alternatively use the following wget to wget the data. :)"
   ]
  },
  {
   "cell_type": "code",
   "execution_count": 3,
   "metadata": {
    "vscode": {
     "languageId": "shellscript"
    }
   },
   "outputs": [
    {
     "name": "stderr",
     "output_type": "stream",
     "text": [
      "--2024-11-18 01:32:23--  https://github.com/melbournebioinformatics/COMP90014_2024/raw/master/assignments/data/ebola_glycoproteins.fasta\n",
      "Resolving github.com (github.com)... 4.237.22.38\n",
      "Connecting to github.com (github.com)|4.237.22.38|:443... connected.\n",
      "HTTP request sent, awaiting response... 302 Found\n",
      "Location: https://raw.githubusercontent.com/melbournebioinformatics/COMP90014_2024/master/assignments/data/ebola_glycoproteins.fasta [following]\n",
      "--2024-11-18 01:32:23--  https://raw.githubusercontent.com/melbournebioinformatics/COMP90014_2024/master/assignments/data/ebola_glycoproteins.fasta\n",
      "Resolving raw.githubusercontent.com (raw.githubusercontent.com)... 185.199.108.133, 185.199.109.133, 185.199.110.133, ...\n",
      "Connecting to raw.githubusercontent.com (raw.githubusercontent.com)|185.199.108.133|:443... connected.\n",
      "HTTP request sent, awaiting response... 200 OK\n",
      "Length: 50633 (49K) [text/plain]\n",
      "Saving to: ‘data/ebola_glycoproteins.fasta’\n",
      "\n",
      "     0K .......... .......... .......... .......... ......... 100% 1.53M=0.03s\n",
      "\n",
      "2024-11-18 01:32:24 (1.53 MB/s) - ‘data/ebola_glycoproteins.fasta’ saved [50633/50633]\n",
      "\n",
      "--2024-11-18 01:32:24--  https://github.com/melbournebioinformatics/COMP90014_2024/raw/master/assignments/data/ebola_glycoproteins_MSA.fasta\n",
      "Resolving github.com (github.com)... 4.237.22.38\n",
      "Connecting to github.com (github.com)|4.237.22.38|:443... connected.\n",
      "HTTP request sent, awaiting response... 302 Found\n",
      "Location: https://raw.githubusercontent.com/melbournebioinformatics/COMP90014_2024/master/assignments/data/ebola_glycoproteins_MSA.fasta [following]\n",
      "--2024-11-18 01:32:24--  https://raw.githubusercontent.com/melbournebioinformatics/COMP90014_2024/master/assignments/data/ebola_glycoproteins_MSA.fasta\n",
      "Resolving raw.githubusercontent.com (raw.githubusercontent.com)... 185.199.110.133, 185.199.111.133, 185.199.108.133, ...\n",
      "Connecting to raw.githubusercontent.com (raw.githubusercontent.com)|185.199.110.133|:443... connected.\n",
      "HTTP request sent, awaiting response... 200 OK\n",
      "Length: 50701 (50K) [text/plain]\n",
      "Saving to: ‘data/ebola_glycoproteins_MSA.fasta’\n",
      "\n",
      "     0K .......... .......... .......... .......... ......... 100% 2.51M=0.02s\n",
      "\n",
      "2024-11-18 01:32:24 (2.51 MB/s) - ‘data/ebola_glycoproteins_MSA.fasta’ saved [50701/50701]\n",
      "\n"
     ]
    }
   ],
   "source": [
    "%%bash\n",
    "\n",
    "# create a /data directory if it doesn't exist\n",
    "mkdir -p data\n",
    "\n",
    "# download the files into /data\n",
    "wget -O data/ebola_glycoproteins.fasta https://github.com/melbournebioinformatics/COMP90014_2024/raw/master/assignments/data/ebola_glycoproteins.fasta\n",
    "wget -O data/ebola_glycoproteins_MSA.fasta https://github.com/melbournebioinformatics/COMP90014_2024/raw/master/assignments/data/ebola_glycoproteins_MSA.fasta\n"
   ]
  },
  {
   "cell_type": "markdown",
   "metadata": {},
   "source": [
    "The raw amino acid sequences from the .fasta file can now be loaded in:"
   ]
  },
  {
   "cell_type": "code",
   "execution_count": 4,
   "metadata": {},
   "outputs": [],
   "source": [
    "def load_sequences(filepath: str):  # sequence loading function\n",
    "    from Bio import SeqIO\n",
    "    seqs = []\n",
    "    for seq in SeqIO.parse(filepath, \"fasta\"):\n",
    "        seqs.append((seq.name, str(seq.seq)))\n",
    "    return seqs\n",
    "\n",
    "# load Ebola sequences into a list\n",
    "EBOLA_SEQS_FILEPATH = \"data/ebola_glycoproteins.fasta\"\n",
    "seqs = load_sequences(EBOLA_SEQS_FILEPATH)\n"
   ]
  },
  {
   "cell_type": "markdown",
   "metadata": {},
   "source": [
    "An snippet of the dataset:"
   ]
  },
  {
   "cell_type": "code",
   "execution_count": 5,
   "metadata": {},
   "outputs": [
    {
     "name": "stdout",
     "output_type": "stream",
     "text": [
      "Number of proteins: 68\n",
      "Number of attributes per entry in the dataset: 2\n",
      "Number of diverse of amino acid lengths: 1\n",
      "\n",
      "Average length of diverse of amino acid lengths: 676.0\n",
      "\n",
      "Snippet of dataset in the form:\n",
      "-------------------------------\n",
      "protein name:\t\tsequence\n",
      "\n",
      "STRAIN_W_62262.1:\tMGVTGILQLPRDRFKRTSFF\n",
      "STRAIN_W_62239.1:\tMGVTGILQLPRDRFKRTSFF\n",
      "STRAIN_W_62230.1:\tMGVTGILQLPRDRFKRTSFF\n",
      "STRAIN_W_62221.1:\tMGVTGILQLPRDRFKRTSFF\n",
      "STRAIN_W_62212.1:\tMGVTGILQLPRDRFKRTSFF\n"
     ]
    }
   ],
   "source": [
    "print(\"Number of proteins:\", len(seqs))\n",
    "print(\"Number of attributes per entry in the dataset:\", len(seqs[0]))\n",
    "print(\"Number of diverse of amino acid lengths:\", len(set(len(seq) for _, seq in seqs)))\n",
    "print()\n",
    "print(\"Average length of diverse of amino acid lengths:\", np.mean(list(len(seq) for _, seq in seqs)))\n",
    "print()\n",
    "print(f\"Snippet of dataset in the form:\\n{31*'-'}\")\n",
    "print(\"protein name:\\t\\tsequence\")\n",
    "print()\n",
    "for name, seq in seqs[:5]:\n",
    "    print(name + \":\\t\" + seq[:20])  # name and first 20 amino acids per protein\n"
   ]
  },
  {
   "cell_type": "markdown",
   "metadata": {},
   "source": [
    "**Agglomerative clustering phylogenetic tree-building plan:**\n",
    "\n",
    "Set up the tree leaves and distance matrix: <br>\n",
    "1. Preprocess sequences and reduce dataset.\n",
    "2. Construct sequence alignment distance matrix.\n",
    "3. Initialise graph with leaf nodes.\n",
    "\n",
    "Iteratively perform agglomerative clustering to build a tree: <br>\n",
    "1. Find the node pair which are closest to each other and have the greatest average distance from other nodes.\n",
    "2. Connect this closest node pair to their parent node on the graph.\n",
    "3. Update the distance matrix accordingly. \n"
   ]
  },
  {
   "cell_type": "markdown",
   "metadata": {},
   "source": [
    "**Setting up graph and distance matrix data structures:**"
   ]
  },
  {
   "cell_type": "markdown",
   "metadata": {},
   "source": [
    "Reduce dataset to unique and relevant sequences."
   ]
  },
  {
   "cell_type": "code",
   "execution_count": 6,
   "metadata": {},
   "outputs": [],
   "source": [
    "def preprocessing(seqs):  \n",
    "    \"\"\"\n",
    "    Sorts a list of sequences into lexicographic order by their amino acid sequence. \n",
    "    Sorted sequences are more easily referenceable across a sorted distance matrix using their sort index.\n",
    "    This is useful for simplification in cases where multiple samples share the same sequence.\n",
    "    \n",
    "    Input: a list of amino acid sequence tuples in format (name, sequence)\n",
    "\n",
    "    Output: a dictionary of sorted amino acid sequences {sequence: [a list of sample names]}\n",
    "    \"\"\"\n",
    "\n",
    "    all_dict = {name:seq for name,seq in seqs}  # unpack and sort seqs\n",
    "    all_dict = dict(sorted(all_dict.items()))\n",
    "    \n",
    "    seqs_dict = defaultdict(list)  # seqs_dict = {seq:[list of strain names]}\n",
    "    for name,seq in all_dict.items():\n",
    "        seqs_dict[seq].append(name)\n",
    "\n",
    "    return seqs_dict # all sublisted names are sorted"
   ]
  },
  {
   "cell_type": "markdown",
   "metadata": {},
   "source": [
    "Set up a pairwise distance matrix by comparing sequences using an external substitution matrix.\n",
    "\n",
    "During runtime: a sequence dictionary is setup alongside the distance matrix to track which sequences\n",
    "are in which column/row. \n",
    "- The sequences are referenceable through their dictionary matrix, which can be converted through to a node_id, which is its ultimate identity in a special node dictionary that reflects each individual node in the phylogenetic tree's graph. \n",
    "- The special node dictionary is a structure that accounts for individual nodes due to the preprocessing step which condensed all samples down to unique sequences."
   ]
  },
  {
   "cell_type": "code",
   "execution_count": 7,
   "metadata": {},
   "outputs": [],
   "source": [
    "def get_distance_matrix(seq_dict):\n",
    "    \"\"\"\n",
    "    Creates a pairwise distance matrix between unique sequences in the sequence dictionary.\n",
    "    The pairwise alignment uses PAM30 global alignment of regions with expected close protein similarity. \n",
    "\n",
    "    Input: a dictionary of sorted amino acid sequences {sequence: [a list of sample names]}.\n",
    "        The input dictionary represents the sequences found on the leaf nodes of the tree.\n",
    "    OUtput: a Numpy matrix (nested list) of the pairwise distances between parentless/free nodes in the current graph.\n",
    "    \"\"\"\n",
    "    aligner = Bio.Align.PairwiseAligner()  # use aligner to make a distance matrix for protein sequences\n",
    "    aligner.mode = 'global'  # global protein sequence alignment of the same region\n",
    "    pam30 = Bio.Align.substitution_matrices.load('PAM30')  # using PAM as this is global alignment\n",
    "    aligner.substitution_matrix = pam30  # using PAM30 due to expected close similarity\n",
    "\n",
    "    n = len(seq_dict)\n",
    "    dist_matrix = np.zeros((n, n))  # init dist matrix\n",
    "\n",
    "    # unpack sorted sequence from sequence dict\n",
    "    unpack_all = sorted(seq_dict.keys())\n",
    "    for i in range(n):  # pairwise sequence comparison of protein seqs using PAM30 \n",
    "        for j in range(i + 1, n):\n",
    "            alignment = aligner.align(unpack_all[i], unpack_all[j])\n",
    "            score = -alignment.score  # use negative alignment similarity score as distance\n",
    "            dist_matrix[i, j] = dist_matrix[j, i] = score\n",
    "\n",
    "    # normalise the distance matrix\n",
    "    if np.max(dist_matrix) != np.min(dist_matrix):\n",
    "        dist_matrix = (dist_matrix - np.min(dist_matrix)) / (np.max(dist_matrix) - np.min(dist_matrix))\n",
    "    \n",
    "    return dist_matrix  # returns sorted distance matrix, in same order as entries in seq_dict\n",
    "\n"
   ]
  },
  {
   "cell_type": "markdown",
   "metadata": {},
   "source": [
    "Initialise the tree using a NetworkX graph."
   ]
  },
  {
   "cell_type": "code",
   "execution_count": 8,
   "metadata": {},
   "outputs": [],
   "source": [
    "def set_leaf_nodes(graph, seq_dict, node_id):\n",
    "    \"\"\"\n",
    "    Creates an initial NetworkX graph by setting the leaf nodes.\n",
    "    Nodes are set using their index (node_id) in the sorted node dictionary from preprocessing step 1. \n",
    "\n",
    "    Input: the preprocessed sorted dictionary of sequences {sequence: [list of sample names]}\n",
    "    Output: a NetworkX graph of leaf nodes. Each node holds the sequence of a previous sample or case.\n",
    "    \"\"\"\n",
    "    node_dict = {}\n",
    "\n",
    "    for seq in seq_dict:  # each unique sequence has a list of related strains in seq_dict's defaultdict(list)\n",
    "        for strain_name in range(len(seq_dict[seq])):\n",
    "            \n",
    "            node_dict.update({node_id:seq_dict[seq][strain_name]})  # track added nodes in a node_dict\n",
    "            graph.add_node(node_id, label=seq_dict[seq][strain_name])  # add leaves to graph\n",
    "            node_id += 1  # keep unique node id\n",
    "\n",
    "    return graph, node_id, node_dict"
   ]
  },
  {
   "cell_type": "markdown",
   "metadata": {},
   "source": [
    "**Neighbour-joining implementation:**"
   ]
  },
  {
   "cell_type": "markdown",
   "metadata": {},
   "source": [
    "Calculate Qij, which is the value which quantifies how alike a pair of node sequences are to each other and how unalike or distant the pair is to all the other sequences. "
   ]
  },
  {
   "cell_type": "code",
   "execution_count": 9,
   "metadata": {},
   "outputs": [],
   "source": [
    "# find average distance each node is from other nodes\n",
    "def node_avg_dist(i, num_nodes, dist_matrix):\n",
    "    return np.mean([dist_matrix[i][j] for j in range(num_nodes) if i != j])"
   ]
  },
  {
   "cell_type": "code",
   "execution_count": 10,
   "metadata": {},
   "outputs": [],
   "source": [
    "# find closeness proximity and average distance from other nodes for each node pair\n",
    "def calculate_Qij(i, j, num_nodes, dist_matrix):  # returns the Qij score for the node pair\n",
    "    return dist_matrix[i][j] - node_avg_dist(i, num_nodes, dist_matrix) - node_avg_dist(j, num_nodes, dist_matrix)\n"
   ]
  },
  {
   "cell_type": "code",
   "execution_count": 11,
   "metadata": {},
   "outputs": [],
   "source": [
    "# find starting node pair through smallest Qij\n",
    "def closest_pair(dist_matrix):\n",
    "    best_Qij = np.inf\n",
    "    n = len(dist_matrix)  # go through matrix and get Qij score per node pair\n",
    "\n",
    "    for i in range(n):  # iterate through pairs and check Qij score\n",
    "        for j in range(i + 1, n):\n",
    "            Qij = calculate_Qij(i, j, n, dist_matrix)\n",
    "\n",
    "            if Qij < best_Qij:  # set best Qij\n",
    "                best_Qij = Qij\n",
    "                pair = (i,j)\n",
    "\n",
    "    return pair  # best pair returned as indexes of dist_matrix"
   ]
  },
  {
   "cell_type": "markdown",
   "metadata": {},
   "source": [
    "Update the distance matrix by replacing the old node pair with a new internal/parent node and the related pairwise distances."
   ]
  },
  {
   "cell_type": "code",
   "execution_count": 12,
   "metadata": {},
   "outputs": [],
   "source": [
    "def remove_pair(pair, matrix_dict, dist_matrix):\n",
    "    \"\"\"\n",
    "    Receives the index positions of the best Qij pair and uses the index values to \n",
    "    remove the best Qij pair from the distance matrix and a linked matrix dictionary that\n",
    "    summarises the identity of the columns/rows in the distance matrix.\n",
    "\n",
    "    Input: index positions of the best Qij pair to remove, a distance matrix and its linked index dictionary.\n",
    "    Output: a distance matrix and linked index dictionary with best Qij pair removed.\n",
    "    \"\"\"\n",
    "    pair = sorted(pair, reverse=True)  # remove later row/column first to maintain indexing\n",
    "\n",
    "    cleaned_dict = {a: b for x, (a, b) in enumerate(matrix_dict.items()) if x not in pair}\n",
    "    dist_matrix = np.delete(dist_matrix, pair, axis=0)  # remove rows\n",
    "    dist_matrix = np.delete(dist_matrix, pair, axis=1)  # remove columns\n",
    "\n",
    "    return dist_matrix, cleaned_dict\n",
    "\n"
   ]
  },
  {
   "cell_type": "code",
   "execution_count": 13,
   "metadata": {},
   "outputs": [],
   "source": [
    "def update_distances(i, j, k, dist_matrix, matrix_dict, node_dict, node_id):\n",
    "    \"\"\"\n",
    "    Creates a new entry in the distance matrix and its linked index dictionary.\n",
    "    The new entry represents the last common ancestor of the best Qij pair.\n",
    "    This can also be thought of as their parent node.\n",
    "\n",
    "    Input: the indexes of the new and old nodes in the linked index dictionary, \n",
    "        the pairwise distance matrix and its linked index dictionary,\n",
    "        the overarching node dictionary linked to the main tree graph,\n",
    "        and the related new parent node_id.\n",
    "    Output: the updated distance matrix with new parent node and its linked index dictionary,\n",
    "        and the updated overarching node dictionary linked to the main tree graph.\n",
    "    \"\"\"\n",
    "    new_dist_matrix = np.zeros((k + 1, k + 1))  # init new matrix\n",
    "    new_dist_matrix[:k, :k] = dist_matrix  # copy old matrix into top left, to preserve sort order\n",
    "    \n",
    "    for m in range(k):  # add k distances from other nodes, updates new parent node distances\n",
    "        new_dist_matrix[k][m] = 0.5 * (dist_matrix[i][m] + dist_matrix[j][m] - dist_matrix[i][j])\n",
    "        new_dist_matrix[m][k] = new_dist_matrix[k][m]\n",
    "\n",
    "    matrix_dict.update({k:[node_id]}) # define new parent node in matrix_dict\n",
    "    node_dict.update({node_id:node_id}) # define new parent node in overall node_dict\n",
    "\n",
    "    return new_dist_matrix, matrix_dict, node_dict"
   ]
  },
  {
   "cell_type": "code",
   "execution_count": 14,
   "metadata": {},
   "outputs": [],
   "source": [
    "def add_pair_parent(pair, dist_matrix, matrix_dict, node_dict, node_id, graph):\n",
    "    \"\"\"\n",
    "    Combines a pair removal function and a distance updating function.\n",
    "    Adds a new parent node to the phylotree graph, \n",
    "    while also updating indexes and data in relevant dictionary and matrix data structures.\n",
    "\n",
    "    Inputs: the best Qij pair, new node_id, distance matrix, matrix dictionary, and overall node dictionary.\n",
    "    Outputs: the updated distance matrix and its linked index dictionary,\n",
    "        the updated phylogenetic tree graph and its linked overall node dictionary,\n",
    "        and the ID number of the most recently added node. \n",
    "    \"\"\"\n",
    "    i, j = pair  # unpack best i,j indexes \n",
    "    k = len(dist_matrix)  # newest row/column index\n",
    "    dist_matrix, matrix_dict, node_dict = update_distances(i, j, k, dist_matrix, matrix_dict, node_dict, node_id)\n",
    "\n",
    "    # get new edge lengths from i,j to the new internal node\n",
    "    new_i_edge = 0.5 * (dist_matrix[i][j] + node_avg_dist(i, k, dist_matrix) - node_avg_dist(j, k, dist_matrix))\n",
    "    new_j_edge = dist_matrix[i][j] - new_i_edge\n",
    "    new_edges = (new_i_edge, new_j_edge)\n",
    "\n",
    "    graph.add_node(node_id, label=node_id)  # add new parent node to graph\n",
    "    \n",
    "    # get names of indexed seqs in matrix_dict, and use them to get their node index in node_dict\n",
    "    for x in range(len(pair)):  # for i and j edges\n",
    "        for matrix_index, seq in enumerate(matrix_dict):  # index matrix dict columns\n",
    "            if matrix_index == pair[x]:  # proceed with only index-matched dict entries\n",
    "                    \n",
    "                for matrix_name in matrix_dict[seq]:  # get names from matrix_dict {seq:[names]}\n",
    "                    for node_index in node_dict:  # find matched matrix_dict name in node_dict\n",
    "                        dict_name = node_dict[node_index]  \n",
    "                        \n",
    "                        if dict_name == matrix_name:  # cross-ref dicts with names and get node index\n",
    "                            graph.add_edge(node_id, node_index, len=new_edges[x])  # add graph edges\n",
    "\n",
    "    dist_matrix, matrix_dict = remove_pair(pair, matrix_dict, dist_matrix)  # remove from matrix/dict\n",
    "    node_id += 1  # keep track of node ids added\n",
    "\n",
    "    return dist_matrix, matrix_dict, node_dict, node_id, graph"
   ]
  },
  {
   "cell_type": "markdown",
   "metadata": {},
   "source": [
    "The previous steps which were defined can now be combined into the iterative agglomerative clustering process to create the full phylogenetic tree.\n",
    "\n",
    "**Main neighbour-joining function:**"
   ]
  },
  {
   "cell_type": "code",
   "execution_count": 15,
   "metadata": {},
   "outputs": [],
   "source": [
    "def build_evo_tree(sequences):  # main function\n",
    "    \"\"\"\n",
    "    Takes a list of protein sequences, reduces them to unique sequences and iteratively builds\n",
    "    a tree by comparing pairs of sequences using the neighbour-joining method.\n",
    "\n",
    "    Input: a list of amino acide sequences from a .fasta file.\n",
    "    Output: A NetworkX graph\n",
    "\n",
    "    \"\"\"\n",
    "    G = nx.DiGraph()  # init variables\n",
    "    node_id = 0\n",
    "    matrix_dict = preprocessing(seqs)\n",
    "\n",
    "    G, node_id, node_dict = set_leaf_nodes(G, matrix_dict, node_id)  # init graph (leaves)\n",
    "    dist_matrix = get_distance_matrix(matrix_dict)  # all seqs dict: {seq:[list of strain names]}\n",
    "\n",
    "    while len(dist_matrix) > 2:  # do Neighbour-Joining from leaves\n",
    "        pair = closest_pair(dist_matrix) \n",
    "        dist_matrix, matrix_dict, node_dict, node_id, G = add_pair_parent(pair, dist_matrix, matrix_dict, node_dict, node_id, G)\n",
    "    pair = closest_pair(dist_matrix)  # add root node\n",
    "    dist_matrix, matrix_dict, node_dict, node_id, G = add_pair_parent(pair, dist_matrix, matrix_dict, node_dict, node_id, G)\n",
    "\n",
    "    return G"
   ]
  },
  {
   "cell_type": "code",
   "execution_count": 16,
   "metadata": {},
   "outputs": [
    {
     "data": {
      "image/png": "[encoded data removed]",
      "text/plain": [
       "<Figure size 1000x1000 with 1 Axes>"
      ]
     },
     "metadata": {},
     "output_type": "display_data"
    }
   ],
   "source": [
    "seqs = load_sequences(EBOLA_SEQS_FILEPATH)\n",
    "G = build_evo_tree(seqs)\n",
    "draw_evo_tree(G)\n"
   ]
  }
 ],
 "metadata": {
  "kernelspec": {
   "display_name": "phylotree_venv",
   "language": "python",
   "name": "python3"
  },
  "language_info": {
   "codemirror_mode": {
    "name": "ipython",
    "version": 3
   },
   "file_extension": ".py",
   "mimetype": "text/x-python",
   "name": "python",
   "nbconvert_exporter": "python",
   "pygments_lexer": "ipython3",
   "version": "3.10.12"
  }
 },
 "nbformat": 4,
 "nbformat_minor": 2
}
